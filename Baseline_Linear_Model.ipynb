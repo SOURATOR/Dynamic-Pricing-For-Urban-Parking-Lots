{
  "nbformat": 4,
  "nbformat_minor": 0,
  "metadata": {
    "colab": {
      "provenance": []
    },
    "kernelspec": {
      "name": "python3",
      "display_name": "Python 3"
    },
    "language_info": {
      "name": "python"
    }
  },
  "cells": [
    {
      "cell_type": "code",
      "execution_count": null,
      "metadata": {
        "id": "zW1sz7iFbvzx"
      },
      "outputs": [],
      "source": [
        "# Installing libraries\n",
        "!pip install pathway bokeh"
      ]
    },
    {
      "cell_type": "code",
      "source": [
        "# Importing libraries\n",
        "import numpy as np\n",
        "import pandas as pd\n",
        "import matplotlib.pyplot as plt\n",
        "import datetime\n",
        "from datetime import datetime\n",
        "import pathway as pw\n",
        "import bokeh.plotting\n",
        "import panel as pn"
      ],
      "metadata": {
        "id": "Q8MLhJCTcSnV"
      },
      "execution_count": null,
      "outputs": []
    },
    {
      "cell_type": "code",
      "source": [
        "# Loading data\n",
        "data = pd.read_csv('/content/dataset.csv')\n",
        "data"
      ],
      "metadata": {
        "id": "pTpOvdstcVVf"
      },
      "execution_count": null,
      "outputs": []
    },
    {
      "cell_type": "code",
      "source": [
        "data.info()"
      ],
      "metadata": {
        "id": "E3cz1uc-ccM9"
      },
      "execution_count": null,
      "outputs": []
    },
    {
      "cell_type": "code",
      "source": [
        "# Sorting according to timestamp\n",
        "data['Timestamp'] = pd.to_datetime(data['LastUpdatedDate'] + ' ' + data['LastUpdatedTime'],\n",
        "                                  format='%d-%m-%Y %H:%M:%S')\n",
        "data = data.sort_values('Timestamp').reset_index(drop=True)\n",
        "data.head()"
      ],
      "metadata": {
        "id": "_8cOOr83cePa"
      },
      "execution_count": null,
      "outputs": []
    },
    {
      "cell_type": "code",
      "source": [
        "# Filtering data for baseline linear model\n",
        "data[[\"SystemCodeNumber\", \"Timestamp\", \"Occupancy\", \"Capacity\"]].to_csv(\"baseline_linear_parking_stream.csv\", index=False)"
      ],
      "metadata": {
        "id": "_wAFpiC7cgR0"
      },
      "execution_count": null,
      "outputs": []
    },
    {
      "cell_type": "code",
      "source": [
        "# Defining schema for baseline linear model\n",
        "class Baseline_Linear_ParkingSchema(pw.Schema):\n",
        "    SystemCodeNumber: str\n",
        "    Timestamp: str\n",
        "    Occupancy: int\n",
        "    Capacity: int"
      ],
      "metadata": {
        "id": "eamYAP91cjJ4"
      },
      "execution_count": null,
      "outputs": []
    },
    {
      "cell_type": "code",
      "source": [
        "# Simulating real time data stream\n",
        "baseline_linear_data_parking = pw.demo.replay_csv(\"baseline_linear_parking_stream.csv\", schema = Baseline_Linear_ParkingSchema, input_rate=1000)"
      ],
      "metadata": {
        "id": "MOjnY9yWclH2"
      },
      "execution_count": null,
      "outputs": []
    },
    {
      "cell_type": "code",
      "source": [
        "fmt = \"%Y-%m-%d %H:%M:%S\"\n",
        "data_with_time = baseline_linear_data_parking.with_columns(\n",
        "    t = baseline_linear_data_parking.Timestamp.dt.strptime(fmt),\n",
        "    day = baseline_linear_data_parking.Timestamp.dt.strptime(fmt).dt.strftime(\"%Y-%m-%dT00:00:00\"))"
      ],
      "metadata": {
        "id": "RQfWKM9RcoFE"
      },
      "execution_count": null,
      "outputs": []
    },
    {
      "cell_type": "code",
      "source": [
        "data_utilization = data_with_time.with_columns(\n",
        "    utilization=pw.this.Occupancy / pw.this.Capacity\n",
        ")"
      ],
      "metadata": {
        "id": "BByaCV-WcqYG"
      },
      "execution_count": null,
      "outputs": []
    },
    {
      "cell_type": "code",
      "source": [
        "# Baseline Linear Model\n",
        "def update_price():\n",
        "    state = {}\n",
        "    def price_func(system_code, t, utilization, occ, cap):\n",
        "        alpha = 2.0\n",
        "        previous_price = state.get(system_code, 10.0)\n",
        "        new_price = previous_price + alpha * utilization\n",
        "        state[system_code] = new_price\n",
        "        return new_price\n",
        "\n",
        "    return price_func\n",
        "\n",
        "price_stream = data_utilization.with_columns(\n",
        "    price=update_price()(\n",
        "        pw.this.SystemCodeNumber,\n",
        "        pw.this.t,\n",
        "        pw.this.utilization,\n",
        "        pw.this.Occupancy,\n",
        "        pw.this.Capacity\n",
        "    )\n",
        ")"
      ],
      "metadata": {
        "id": "USEGdK_ocrx7"
      },
      "execution_count": null,
      "outputs": []
    },
    {
      "cell_type": "code",
      "source": [
        "# Plot Baseline Linear Model\n",
        "from bokeh.models import ColumnDataSource\n",
        "pn.extension()\n",
        "\n",
        "parking_lots = ['BHMBCCMKT01', 'BHMNCPHST01', 'BHMMBMMBX01', 'BHMNCPNST01',\n",
        "       'Shopping', 'BHMEURBRD01', 'Broad Street', 'Others-CCCPS8',\n",
        "       'Others-CCCPS105a', 'Others-CCCPS119a', 'BHMBCCTHL01',\n",
        "       'Others-CCCPS135a', 'Others-CCCPS202', 'Others-CCCPS98']\n",
        "\n",
        "def lot_price_plot(system_code):\n",
        "    def plot_func(source):\n",
        "        fig = bokeh.plotting.figure(\n",
        "            height=300,\n",
        "            width=500,\n",
        "            title=f\"Price Dynamics: {system_code}\",\n",
        "            x_axis_type=\"datetime\",\n",
        "            y_range = (10, 20)\n",
        "        )\n",
        "        fig.line(\"t\", \"price\", source=source, line_width=2, color=\"navy\")\n",
        "        fig.scatter(\"t\", \"price\", source=source, size=5, color=\"red\")\n",
        "        return fig\n",
        "    return plot_func\n",
        "\n",
        "viz_dict = {\n",
        "    lot: price_stream.filter(pw.this.SystemCodeNumber == lot).plot(\n",
        "        lot_price_plot(lot), sorting_col=\"t\"\n",
        "    )\n",
        "    for lot in parking_lots\n",
        "}\n",
        "\n",
        "column1 = [viz_dict[lot] for lot in parking_lots[:7]]\n",
        "column2 = [viz_dict[lot] for lot in parking_lots[7:]]\n",
        "\n",
        "dashboard = pn.Row(\n",
        "    pn.Column(*column1),\n",
        "    pn.Column(*column2)\n",
        ")\n",
        "\n",
        "dashboard.servable()\n"
      ],
      "metadata": {
        "id": "yVtkLCvzd2zQ"
      },
      "execution_count": null,
      "outputs": []
    },
    {
      "cell_type": "code",
      "source": [
        "# Run Baseline Linear Model\n",
        "%%capture --no-display\n",
        "pw.run()"
      ],
      "metadata": {
        "id": "uj1ZRp_8d_7m"
      },
      "execution_count": null,
      "outputs": []
    }
  ]
}