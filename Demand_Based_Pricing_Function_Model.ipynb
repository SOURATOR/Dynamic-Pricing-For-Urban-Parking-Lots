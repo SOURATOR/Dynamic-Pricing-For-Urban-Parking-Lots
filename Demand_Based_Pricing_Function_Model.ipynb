{
  "nbformat": 4,
  "nbformat_minor": 0,
  "metadata": {
    "colab": {
      "provenance": []
    },
    "kernelspec": {
      "name": "python3",
      "display_name": "Python 3"
    },
    "language_info": {
      "name": "python"
    }
  },
  "cells": [
    {
      "cell_type": "code",
      "execution_count": null,
      "metadata": {
        "id": "veR1skPdXsnM"
      },
      "outputs": [],
      "source": [
        "# Installing libraries\n",
        "!pip install pathway bokeh"
      ]
    },
    {
      "cell_type": "code",
      "source": [
        "# Importing libraries\n",
        "import numpy as np\n",
        "import pandas as pd\n",
        "import matplotlib.pyplot as plt\n",
        "import datetime\n",
        "from datetime import datetime\n",
        "import pathway as pw\n",
        "import bokeh.plotting\n",
        "import panel as pn"
      ],
      "metadata": {
        "id": "2Pz1rgFeYRPH"
      },
      "execution_count": null,
      "outputs": []
    },
    {
      "cell_type": "code",
      "source": [
        "# Loading data\n",
        "data = pd.read_csv('/content/dataset.csv')\n",
        "data"
      ],
      "metadata": {
        "id": "xas3f6nPYWXF"
      },
      "execution_count": null,
      "outputs": []
    },
    {
      "cell_type": "code",
      "source": [
        "# Data info\n",
        "data.info()"
      ],
      "metadata": {
        "id": "klzIsznZYaWf"
      },
      "execution_count": null,
      "outputs": []
    },
    {
      "cell_type": "code",
      "source": [
        "# Parsing and sorting according to timestamp\n",
        "data['Timestamp'] = pd.to_datetime(data['LastUpdatedDate'] + ' ' + data['LastUpdatedTime'],\n",
        "                                  format='%d-%m-%Y %H:%M:%S')\n",
        "data = data.sort_values('Timestamp').reset_index(drop=True)\n",
        "data.head()"
      ],
      "metadata": {
        "id": "zvht3d7qYbhs"
      },
      "execution_count": null,
      "outputs": []
    },
    {
      "cell_type": "code",
      "source": [
        "# Filtering data for demand based price function model\n",
        "data[[\"SystemCodeNumber\", \"Timestamp\", \"Occupancy\", \"Capacity\", \"QueueLength\", \"TrafficConditionNearby\", \"IsSpecialDay\", \"VehicleType\"]].to_csv(\"demand_price_parking_stream.csv\", index=False)"
      ],
      "metadata": {
        "id": "QYetMQ2gYeCM"
      },
      "execution_count": null,
      "outputs": []
    },
    {
      "cell_type": "code",
      "source": [
        "# Defining schema for demand based price model\n",
        "class Demand_Price_ParkingSchema(pw.Schema):\n",
        "    SystemCodeNumber: str\n",
        "    Timestamp: str\n",
        "    Occupancy: int\n",
        "    Capacity: int\n",
        "    QueueLength: int\n",
        "    TrafficConditionNearby: str\n",
        "    IsSpecialDay: int\n",
        "    VehicleType: str"
      ],
      "metadata": {
        "id": "wR7lE5G-YkTV"
      },
      "execution_count": null,
      "outputs": []
    },
    {
      "cell_type": "code",
      "source": [
        "# Simulating real time data stream using 100 rows\n",
        "demand_price_data_parking = pw.demo.replay_csv(\"demand_price_parking_stream.csv\", schema = Demand_Price_ParkingSchema, input_rate=100)"
      ],
      "metadata": {
        "id": "YQ49d0MjYmll"
      },
      "execution_count": null,
      "outputs": []
    },
    {
      "cell_type": "code",
      "source": [
        "# Formatting date and time\n",
        "fmt = \"%Y-%m-%d %H:%M:%S\"\n",
        "data_with_time = demand_price_data_parking.with_columns(\n",
        "    t = demand_price_data_parking.Timestamp.dt.strptime(fmt),\n",
        "    day = demand_price_data_parking.Timestamp.dt.strptime(fmt).dt.strftime(\"%Y-%m-%dT00:00:00\"))"
      ],
      "metadata": {
        "id": "zlwLAVdLYpmO"
      },
      "execution_count": null,
      "outputs": []
    },
    {
      "cell_type": "code",
      "source": [
        "# Calculating utilization ratio\n",
        "data_utilization = data_with_time.with_columns(\n",
        "    utilization=pw.this.Occupancy / pw.this.Capacity\n",
        ")"
      ],
      "metadata": {
        "id": "8kO7W7I-YsTm"
      },
      "execution_count": null,
      "outputs": []
    },
    {
      "cell_type": "code",
      "source": [
        "# Demand Based Price Function\n",
        "@pw.udf\n",
        "def demand_price(system_code, t, occupancy, capacity, queue, traffic, is_special, vehicle_type) -> float:\n",
        "    vehicle_weights = {\"car\": 1.0, \"bike\": 0.6, \"truck\": 1.5}\n",
        "    traffic_encoding = {\"low\": 0.2, \"medium\": 0.5, \"high\": 1.0}\n",
        "\n",
        "    alpha = 1.5\n",
        "    beta = 0.5\n",
        "    gamma = 1.0\n",
        "    delta = 2.0\n",
        "    epsilon = 1.0\n",
        "    base_price = 10.0\n",
        "    lambda_ = 0.8\n",
        "\n",
        "    occ_ratio = occupancy / capacity\n",
        "    traffic_val = traffic_encoding.get(str(traffic).lower(), 0.5)\n",
        "    vtype_weight = vehicle_weights.get(str(vehicle_type).lower(), 1.0)\n",
        "\n",
        "    demand = (\n",
        "        alpha * occ_ratio +\n",
        "        beta * queue -\n",
        "        gamma * traffic_val +\n",
        "        delta * int(is_special) +\n",
        "        epsilon * vtype_weight\n",
        "    )\n",
        "\n",
        "# Normalizing Demand Using Sigmoid\n",
        "    norm_demand = 1 / (1 + np.exp(-demand))\n",
        "    price = base_price * (1 + lambda_ * norm_demand)\n",
        "\n",
        "# Price Range Bounding\n",
        "    return max(min(price, 2 * base_price), 0.5 * base_price)\n",
        "\n",
        "price_stream_demand = data_with_time.with_columns(\n",
        "    price = demand_price(\n",
        "        pw.this.SystemCodeNumber,\n",
        "        pw.this.t,\n",
        "        pw.this.Occupancy,\n",
        "        pw.this.Capacity,\n",
        "        pw.this.QueueLength,\n",
        "        pw.this.TrafficConditionNearby,\n",
        "        pw.this.IsSpecialDay,\n",
        "        pw.this.VehicleType\n",
        "    )\n",
        ")\n",
        "\n",
        "pw.run()"
      ],
      "metadata": {
        "id": "vC-Ura1VYuPG"
      },
      "execution_count": null,
      "outputs": []
    },
    {
      "cell_type": "code",
      "source": [
        "# Grouping by lot and determining mean price for each day\n",
        "price_stream_with_day = price_stream_demand.with_columns(\n",
        "    date = pw.this.t.dt.strftime(\"%Y-%m-%dT00:00:00\")\n",
        ")\n",
        "\n",
        "daily_price_stream = price_stream_with_day.groupby(\n",
        "    pw.this.SystemCodeNumber, pw.this.date\n",
        ").reduce(\n",
        "    SystemCodeNumber = pw.this.SystemCodeNumber,\n",
        "    t = pw.reducers.max(pw.this.t),\n",
        "    sum_price = pw.reducers.sum(pw.this.price),\n",
        "    count_price = pw.reducers.count()\n",
        ").with_columns(\n",
        "    price = pw.this.sum_price / pw.this.count_price\n",
        ")"
      ],
      "metadata": {
        "id": "avqqeigpx5xf"
      },
      "execution_count": null,
      "outputs": []
    },
    {
      "cell_type": "code",
      "source": [
        "# Plotting Demand Based Price Function (Daily)\n",
        "from bokeh.models import ColumnDataSource\n",
        "pn.extension()\n",
        "\n",
        "parking_lots = ['BHMBCCMKT01', 'BHMNCPHST01', 'BHMMBMMBX01', 'BHMNCPNST01',\n",
        "       'Shopping', 'BHMEURBRD01', 'Broad Street', 'Others-CCCPS8',\n",
        "       'Others-CCCPS105a', 'Others-CCCPS119a', 'BHMBCCTHL01',\n",
        "       'Others-CCCPS135a', 'Others-CCCPS202', 'Others-CCCPS98']\n",
        "\n",
        "def lot_price_plot(system_code):\n",
        "    def plot_func(source):\n",
        "        fig = bokeh.plotting.figure(\n",
        "            height=300,\n",
        "            width=500,\n",
        "            title=f\"Price Dynamics: {system_code}\",\n",
        "            x_axis_type=\"datetime\",\n",
        "            y_range = (10, 20)\n",
        "        )\n",
        "        fig.line(\"t\", \"price\", source=source, line_width=2, color=\"navy\")\n",
        "        fig.scatter(\"t\", \"price\", source=source, size=5, color=\"red\")\n",
        "        return fig\n",
        "    return plot_func\n",
        "\n",
        "viz_dict = {\n",
        "    lot: daily_price_stream.filter(pw.this.SystemCodeNumber == lot).plot(\n",
        "        lot_price_plot(lot), sorting_col=\"t\"\n",
        "    )\n",
        "    for lot in parking_lots\n",
        "}\n",
        "\n",
        "column1 = [viz_dict[lot] for lot in parking_lots[:7]]\n",
        "column2 = [viz_dict[lot] for lot in parking_lots[7:]]\n",
        "\n",
        "dashboard = pn.Row(\n",
        "    pn.Column(*column1),\n",
        "    pn.Column(*column2)\n",
        ")\n",
        "\n",
        "dashboard.servable()"
      ],
      "metadata": {
        "id": "-fsEZRKfYx0l"
      },
      "execution_count": null,
      "outputs": []
    },
    {
      "cell_type": "code",
      "source": [
        "# Run Demand Based Price Function\n",
        "%%capture --no-display\n",
        "pw.run()"
      ],
      "metadata": {
        "id": "k4iR30vuY4FO"
      },
      "execution_count": null,
      "outputs": []
    }
  ]
}